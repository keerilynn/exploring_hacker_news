{
 "cells": [
  {
   "cell_type": "markdown",
   "metadata": {
    "collapsed": true
   },
   "source": [
    "# Exploring Hacker News\n",
    "\n",
    "This project will explore \"Ask HN\" and \"Show HN\" posts. Do either of the posts receive more comments than the other? Do posts created at a certain time receive more comments than average? "
   ]
  },
  {
   "cell_type": "code",
   "execution_count": 1,
   "metadata": {
    "collapsed": false,
    "scrolled": false
   },
   "outputs": [],
   "source": [
    "import csv\n",
    "opened_file = open('hacker_news.csv')\n",
    "hn = list(csv.reader(opened_file))\n",
    "\n"
   ]
  },
  {
   "cell_type": "markdown",
   "metadata": {},
   "source": [
    "# Removing Headers from a List"
   ]
  },
  {
   "cell_type": "code",
   "execution_count": 2,
   "metadata": {
    "collapsed": false,
    "scrolled": true
   },
   "outputs": [
    {
     "name": "stdout",
     "output_type": "stream",
     "text": [
      "['id', 'title', 'url', 'num_points', 'num_comments', 'author', 'created_at']\n",
      "[['12224879', 'Interactive Dynamic Video', 'http://www.interactivedynamicvideo.com/', '386', '52', 'ne0phyte', '8/4/2016 11:52'], ['10975351', 'How to Use Open Source and Shut the Fuck Up at the Same Time', 'http://hueniverse.com/2016/01/26/how-to-use-open-source-and-shut-the-fuck-up-at-the-same-time/', '39', '10', 'josep2', '1/26/2016 19:30'], ['11964716', \"Florida DJs May Face Felony for April Fools' Water Joke\", 'http://www.thewire.com/entertainment/2013/04/florida-djs-april-fools-water-joke/63798/', '2', '1', 'vezycash', '6/23/2016 22:20'], ['11919867', 'Technology ventures: From Idea to Enterprise', 'https://www.amazon.com/Technology-Ventures-Enterprise-Thomas-Byers/dp/0073523429', '3', '1', 'hswarna', '6/17/2016 0:01'], ['10301696', 'Note by Note: The Making of Steinway L1037 (2007)', 'http://www.nytimes.com/2007/11/07/movies/07stein.html?_r=0', '8', '2', 'walterbell', '9/30/2015 4:12']]\n"
     ]
    }
   ],
   "source": [
    "headers = hn[0]\n",
    "hn = hn[1:]\n",
    "print(headers)\n",
    "print(hn[:5])"
   ]
  },
  {
   "cell_type": "markdown",
   "metadata": {},
   "source": [
    "# Extracting Ask HN and Show HN Posts"
   ]
  },
  {
   "cell_type": "code",
   "execution_count": 3,
   "metadata": {
    "collapsed": false
   },
   "outputs": [
    {
     "name": "stdout",
     "output_type": "stream",
     "text": [
      "1744\n",
      "1162\n",
      "17194\n"
     ]
    }
   ],
   "source": [
    "ask_posts = []\n",
    "show_posts = []\n",
    "other_posts = []\n",
    "\n",
    "for row in hn:\n",
    "    title = row[1]\n",
    "    title = title.lower()\n",
    "    if title.startswith('ask hn'):\n",
    "        ask_posts.append(row)\n",
    "    elif title.startswith('show hn'):\n",
    "        show_posts.append(row)\n",
    "    else:\n",
    "        other_posts.append(row)\n",
    "        \n",
    "print(len(ask_posts))\n",
    "print(len(show_posts))\n",
    "print(len(other_posts))"
   ]
  },
  {
   "cell_type": "markdown",
   "metadata": {},
   "source": [
    "# Calculate the Number of Comments for Ask HN and Show HN Posts"
   ]
  },
  {
   "cell_type": "code",
   "execution_count": 4,
   "metadata": {
    "collapsed": false
   },
   "outputs": [
    {
     "name": "stdout",
     "output_type": "stream",
     "text": [
      "14.038417431192661\n",
      "10.31669535283993\n"
     ]
    }
   ],
   "source": [
    "total_ask_comments = 0\n",
    "for row in ask_posts:\n",
    "    num_comments = row[4]\n",
    "    num_comments = int(num_comments)\n",
    "    total_ask_comments += num_comments\n",
    "    \n",
    "avg_ask_comments = total_ask_comments / len(ask_posts)\n",
    "print(avg_ask_comments)\n",
    "\n",
    "total_show_comments = 0\n",
    "for row in show_posts:\n",
    "    num_comments = row[4]\n",
    "    num_comments = int(num_comments)\n",
    "    total_show_comments += num_comments\n",
    "    \n",
    "avg_show_comments = total_show_comments / len(show_posts)\n",
    "print(avg_show_comments)\n",
    "\n"
   ]
  },
  {
   "cell_type": "markdown",
   "metadata": {},
   "source": [
    "\"HN Ask\" posts receive an average of 14 comments per post while \"HN Show\" posts\" receive an average of 10.3 comments per post.\n",
    "\n",
    "Since \"HN Ask\" posts receive the most comments, we'll focus our attentnion on those. Next, we'll analyze if a certain time of day is more likely to receive more comments. \n",
    "\n",
    "# Find the Amount of Ask Posts and Comments Created Per Hour"
   ]
  },
  {
   "cell_type": "code",
   "execution_count": 5,
   "metadata": {
    "collapsed": false
   },
   "outputs": [
    {
     "name": "stdout",
     "output_type": "stream",
     "text": [
      "{'00': 55, '21': 109, '09': 45, '16': 108, '05': 46, '08': 48, '11': 58, '18': 109, '07': 34, '23': 68, '14': 107, '02': 58, '12': 73, '20': 80, '15': 116, '13': 85, '17': 100, '22': 71, '01': 60, '04': 47, '03': 54, '06': 44, '19': 110, '10': 59}\n",
      "{'00': 447, '21': 1745, '09': 251, '16': 1814, '05': 464, '08': 492, '11': 641, '18': 1439, '07': 267, '23': 543, '14': 1416, '02': 1381, '12': 687, '20': 1722, '15': 4477, '13': 1253, '17': 1146, '22': 479, '01': 683, '04': 337, '03': 421, '06': 397, '19': 1188, '10': 793}\n"
     ]
    }
   ],
   "source": [
    "import datetime as dt\n",
    "result_list = []\n",
    "for row in ask_posts:\n",
    "    created_at = row[6]\n",
    "    comments = row[4]\n",
    "    comments = int(comments)\n",
    "    result_list.append([created_at, comments])\n",
    "    \n",
    "counts_by_hour = {}\n",
    "comments_by_hour = {}\n",
    "\n",
    "for row in result_list:\n",
    "    hour = row[0]\n",
    "    comment = row[1]\n",
    "    comment = int(comment)\n",
    "    hour_dt = dt.datetime.strptime(hour, \"%m/%d/%Y %H:%M\").strftime(\"%H\")\n",
    "    \n",
    "    if hour_dt not in counts_by_hour:\n",
    "        counts_by_hour[hour_dt] = 1\n",
    "        comments_by_hour[hour_dt] = comment\n",
    "    elif hour_dt in counts_by_hour:\n",
    "        counts_by_hour[hour_dt] += 1\n",
    "        comments_by_hour[hour_dt] += comment\n",
    "        \n",
    "print(counts_by_hour)\n",
    "print(comments_by_hour)\n",
    "    "
   ]
  },
  {
   "cell_type": "markdown",
   "metadata": {},
   "source": [
    "Next we will create a new list of lists containing two elements. The first element of the lists will be the hours posts were created. The second will be the average number of comments posts received at those hours."
   ]
  },
  {
   "cell_type": "code",
   "execution_count": 6,
   "metadata": {
    "collapsed": false
   },
   "outputs": [
    {
     "name": "stdout",
     "output_type": "stream",
     "text": [
      "[['00', 8.127272727272727], ['21', 16.009174311926607], ['09', 5.5777777777777775], ['16', 16.796296296296298], ['05', 10.08695652173913], ['08', 10.25], ['11', 11.051724137931034], ['18', 13.20183486238532], ['07', 7.852941176470588], ['23', 7.985294117647059], ['14', 13.233644859813085], ['02', 23.810344827586206], ['12', 9.41095890410959], ['20', 21.525], ['15', 38.5948275862069], ['13', 14.741176470588234], ['17', 11.46], ['22', 6.746478873239437], ['01', 11.383333333333333], ['04', 7.170212765957447], ['03', 7.796296296296297], ['06', 9.022727272727273], ['19', 10.8], ['10', 13.440677966101696]]\n"
     ]
    }
   ],
   "source": [
    "avg_by_hour = []\n",
    "\n",
    "for hr in comments_by_hour:\n",
    "    avg_by_hour.append([hr, comments_by_hour[hr] / counts_by_hour[hr]])\n",
    "           \n",
    "print(avg_by_hour)\n"
   ]
  },
  {
   "cell_type": "markdown",
   "metadata": {
    "collapsed": true
   },
   "source": [
    "# Sort the List and Print the 5 Highest Values"
   ]
  },
  {
   "cell_type": "code",
   "execution_count": 11,
   "metadata": {
    "collapsed": false
   },
   "outputs": [
    {
     "name": "stdout",
     "output_type": "stream",
     "text": [
      "[[8.127272727272727, '00'], [16.009174311926607, '21'], [5.5777777777777775, '09'], [16.796296296296298, '16'], [10.08695652173913, '05'], [10.25, '08'], [11.051724137931034, '11'], [13.20183486238532, '18'], [7.852941176470588, '07'], [7.985294117647059, '23'], [13.233644859813085, '14'], [23.810344827586206, '02'], [9.41095890410959, '12'], [21.525, '20'], [38.5948275862069, '15'], [14.741176470588234, '13'], [11.46, '17'], [6.746478873239437, '22'], [11.383333333333333, '01'], [7.170212765957447, '04'], [7.796296296296297, '03'], [9.022727272727273, '06'], [10.8, '19'], [13.440677966101696, '10']]\n",
      "\n",
      "\n",
      "Top 5 Hours for Ask Posts Comments\n",
      "15:00: 38.59 average comments per post\n",
      "02:00: 23.81 average comments per post\n",
      "20:00: 21.52 average comments per post\n",
      "16:00: 16.80 average comments per post\n",
      "21:00: 16.01 average comments per post\n"
     ]
    }
   ],
   "source": [
    "swap_avg_by_hour = []\n",
    "for row in avg_by_hour:\n",
    "    swap_avg_by_hour.append([row[1], row[0]])\n",
    "    \n",
    "sorted_swap = sorted(swap_avg_by_hour, reverse=True)\n",
    "\n",
    "print(\"Top 5 Hours for Ask Posts Comments\")\n",
    "\n",
    "\n",
    "for avg, hr in sorted_swap[:5]:\n",
    "    template = \"{}: {:.2f} average comments per post\"\n",
    "    template = template.format(dt.datetime.strptime(hr, \"%H\").strftime(\"%H:%M\"), avg)\n",
    "    print(template)\n",
    "\n",
    "    \n",
    "    "
   ]
  },
  {
   "cell_type": "markdown",
   "metadata": {},
   "source": [
    "# Conclusion\n",
    "\n",
    "According to this sample of data, the posts on Hacker News that get the most interaction are \"Ask HN\" posts. The best time to post them are 15:00 Eastern time, with an average of 38.59 comments for each post. \n",
    "\n",
    "\"Show HN\" was a close contender for a high number of comments on posts as well. \"Show HN\" averaged 10.31 comments per post while \"Ask HN\" averaged 14.03 comments per post. "
   ]
  }
 ],
 "metadata": {
  "celltoolbar": "Raw Cell Format",
  "kernelspec": {
   "display_name": "Python 3",
   "language": "python",
   "name": "python3"
  },
  "language_info": {
   "codemirror_mode": {
    "name": "ipython",
    "version": 3
   },
   "file_extension": ".py",
   "mimetype": "text/x-python",
   "name": "python",
   "nbconvert_exporter": "python",
   "pygments_lexer": "ipython3",
   "version": "3.4.3"
  }
 },
 "nbformat": 4,
 "nbformat_minor": 2
}
